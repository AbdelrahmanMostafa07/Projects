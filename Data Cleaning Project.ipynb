{
 "cells": [
  {
   "cell_type": "code",
   "execution_count": 1,
   "id": "02a84aaa",
   "metadata": {},
   "outputs": [],
   "source": [
    "import pandas as pd"
   ]
  },
  {
   "cell_type": "code",
   "execution_count": 2,
   "id": "dab95017",
   "metadata": {},
   "outputs": [],
   "source": [
    "# import CSV\n",
    "\n",
    "df = pd.read_csv('Cricket_DataCleaning.csv')"
   ]
  },
  {
   "cell_type": "code",
   "execution_count": 3,
   "id": "a122f3d7",
   "metadata": {},
   "outputs": [
    {
     "data": {
      "text/html": [
       "<div>\n",
       "<style scoped>\n",
       "    .dataframe tbody tr th:only-of-type {\n",
       "        vertical-align: middle;\n",
       "    }\n",
       "\n",
       "    .dataframe tbody tr th {\n",
       "        vertical-align: top;\n",
       "    }\n",
       "\n",
       "    .dataframe thead th {\n",
       "        text-align: right;\n",
       "    }\n",
       "</style>\n",
       "<table border=\"1\" class=\"dataframe\">\n",
       "  <thead>\n",
       "    <tr style=\"text-align: right;\">\n",
       "      <th></th>\n",
       "      <th>Player</th>\n",
       "      <th>Span</th>\n",
       "      <th>Mat</th>\n",
       "      <th>Inns</th>\n",
       "      <th>NO</th>\n",
       "      <th>Runs</th>\n",
       "      <th>HS</th>\n",
       "      <th>Ave</th>\n",
       "      <th>BF</th>\n",
       "      <th>SR</th>\n",
       "      <th>100</th>\n",
       "      <th>50</th>\n",
       "      <th>0</th>\n",
       "      <th>4s</th>\n",
       "      <th>6s</th>\n",
       "    </tr>\n",
       "  </thead>\n",
       "  <tbody>\n",
       "    <tr>\n",
       "      <th>0</th>\n",
       "      <td>DG Bradman (AUS)</td>\n",
       "      <td>1928-1948</td>\n",
       "      <td>52</td>\n",
       "      <td>80</td>\n",
       "      <td>10</td>\n",
       "      <td>6996</td>\n",
       "      <td>334</td>\n",
       "      <td>99.94</td>\n",
       "      <td>9800+</td>\n",
       "      <td>58.60</td>\n",
       "      <td>29</td>\n",
       "      <td>13</td>\n",
       "      <td>7</td>\n",
       "      <td>626</td>\n",
       "      <td>6</td>\n",
       "    </tr>\n",
       "    <tr>\n",
       "      <th>1</th>\n",
       "      <td>HC Brook (ENG)</td>\n",
       "      <td>2022-2023</td>\n",
       "      <td>12</td>\n",
       "      <td>20</td>\n",
       "      <td>1</td>\n",
       "      <td>1181</td>\n",
       "      <td>186</td>\n",
       "      <td>62.15</td>\n",
       "      <td>1287</td>\n",
       "      <td>91.76</td>\n",
       "      <td>4</td>\n",
       "      <td>7</td>\n",
       "      <td>1</td>\n",
       "      <td>141</td>\n",
       "      <td>23</td>\n",
       "    </tr>\n",
       "    <tr>\n",
       "      <th>2</th>\n",
       "      <td>AC Voges (AUS)</td>\n",
       "      <td>2015-2016</td>\n",
       "      <td>20</td>\n",
       "      <td>31</td>\n",
       "      <td>7</td>\n",
       "      <td>1485</td>\n",
       "      <td>269*</td>\n",
       "      <td>61.87</td>\n",
       "      <td>2667</td>\n",
       "      <td>55.68</td>\n",
       "      <td>5</td>\n",
       "      <td>4</td>\n",
       "      <td>2</td>\n",
       "      <td>186</td>\n",
       "      <td>5</td>\n",
       "    </tr>\n",
       "    <tr>\n",
       "      <th>3</th>\n",
       "      <td>RG Pollock (SA)</td>\n",
       "      <td>1963-1970</td>\n",
       "      <td>23</td>\n",
       "      <td>41</td>\n",
       "      <td>4</td>\n",
       "      <td>2256</td>\n",
       "      <td>274</td>\n",
       "      <td>60.97</td>\n",
       "      <td>1707+</td>\n",
       "      <td>54.48</td>\n",
       "      <td>7</td>\n",
       "      <td>11</td>\n",
       "      <td>1</td>\n",
       "      <td>246</td>\n",
       "      <td>11</td>\n",
       "    </tr>\n",
       "    <tr>\n",
       "      <th>4</th>\n",
       "      <td>GA Headley (WI)</td>\n",
       "      <td>1930-1954</td>\n",
       "      <td>22</td>\n",
       "      <td>40</td>\n",
       "      <td>4</td>\n",
       "      <td>2190</td>\n",
       "      <td>270*</td>\n",
       "      <td>60.83</td>\n",
       "      <td>416+</td>\n",
       "      <td>56.00</td>\n",
       "      <td>10</td>\n",
       "      <td>5</td>\n",
       "      <td>2</td>\n",
       "      <td>104</td>\n",
       "      <td>1</td>\n",
       "    </tr>\n",
       "  </tbody>\n",
       "</table>\n",
       "</div>"
      ],
      "text/plain": [
       "             Player       Span Mat  Inns  NO  Runs    HS    Ave     BF     SR  \\\n",
       "0  DG Bradman (AUS)  1928-1948  52    80  10  6996   334  99.94  9800+  58.60   \n",
       "1    HC Brook (ENG)  2022-2023  12    20   1  1181   186  62.15   1287  91.76   \n",
       "2    AC Voges (AUS)  2015-2016  20    31   7  1485  269*  61.87   2667  55.68   \n",
       "3   RG Pollock (SA)  1963-1970  23    41   4  2256   274  60.97  1707+  54.48   \n",
       "4   GA Headley (WI)  1930-1954  22    40   4  2190  270*  60.83   416+  56.00   \n",
       "\n",
       "   100  50  0   4s  6s  \n",
       "0   29  13  7  626   6  \n",
       "1    4   7  1  141  23  \n",
       "2    5   4  2  186   5  \n",
       "3    7  11  1  246  11  \n",
       "4   10   5  2  104   1  "
      ]
     },
     "execution_count": 3,
     "metadata": {},
     "output_type": "execute_result"
    }
   ],
   "source": [
    "# display first 5 rows from the data\n",
    "\n",
    "df.head()"
   ]
  },
  {
   "cell_type": "code",
   "execution_count": 4,
   "id": "0b9b963d",
   "metadata": {},
   "outputs": [],
   "source": [
    "# Rename Multiple Columns in a list\n",
    "\n",
    "df = df.rename(columns = {'Mat':'Matches' ,'NO':'Not_Outs', 'HS':'Highest_Inns_Score', 'BF':'Balls_Faced', 'SR':'Strike_Rate'})"
   ]
  },
  {
   "cell_type": "code",
   "execution_count": 5,
   "id": "c34f92b5",
   "metadata": {},
   "outputs": [
    {
     "data": {
      "text/html": [
       "<div>\n",
       "<style scoped>\n",
       "    .dataframe tbody tr th:only-of-type {\n",
       "        vertical-align: middle;\n",
       "    }\n",
       "\n",
       "    .dataframe tbody tr th {\n",
       "        vertical-align: top;\n",
       "    }\n",
       "\n",
       "    .dataframe thead th {\n",
       "        text-align: right;\n",
       "    }\n",
       "</style>\n",
       "<table border=\"1\" class=\"dataframe\">\n",
       "  <thead>\n",
       "    <tr style=\"text-align: right;\">\n",
       "      <th></th>\n",
       "      <th>Player</th>\n",
       "      <th>Span</th>\n",
       "      <th>Matches</th>\n",
       "      <th>Inns</th>\n",
       "      <th>Not_Outs</th>\n",
       "      <th>Runs</th>\n",
       "      <th>Highest_Inns_Score</th>\n",
       "      <th>Ave</th>\n",
       "      <th>Balls_Faced</th>\n",
       "      <th>Strike_Rate</th>\n",
       "      <th>100</th>\n",
       "      <th>50</th>\n",
       "      <th>0</th>\n",
       "      <th>4s</th>\n",
       "      <th>6s</th>\n",
       "    </tr>\n",
       "  </thead>\n",
       "  <tbody>\n",
       "    <tr>\n",
       "      <th>0</th>\n",
       "      <td>DG Bradman (AUS)</td>\n",
       "      <td>1928-1948</td>\n",
       "      <td>52</td>\n",
       "      <td>80</td>\n",
       "      <td>10</td>\n",
       "      <td>6996</td>\n",
       "      <td>334</td>\n",
       "      <td>99.94</td>\n",
       "      <td>9800+</td>\n",
       "      <td>58.60</td>\n",
       "      <td>29</td>\n",
       "      <td>13</td>\n",
       "      <td>7</td>\n",
       "      <td>626</td>\n",
       "      <td>6</td>\n",
       "    </tr>\n",
       "    <tr>\n",
       "      <th>1</th>\n",
       "      <td>HC Brook (ENG)</td>\n",
       "      <td>2022-2023</td>\n",
       "      <td>12</td>\n",
       "      <td>20</td>\n",
       "      <td>1</td>\n",
       "      <td>1181</td>\n",
       "      <td>186</td>\n",
       "      <td>62.15</td>\n",
       "      <td>1287</td>\n",
       "      <td>91.76</td>\n",
       "      <td>4</td>\n",
       "      <td>7</td>\n",
       "      <td>1</td>\n",
       "      <td>141</td>\n",
       "      <td>23</td>\n",
       "    </tr>\n",
       "    <tr>\n",
       "      <th>2</th>\n",
       "      <td>AC Voges (AUS)</td>\n",
       "      <td>2015-2016</td>\n",
       "      <td>20</td>\n",
       "      <td>31</td>\n",
       "      <td>7</td>\n",
       "      <td>1485</td>\n",
       "      <td>269*</td>\n",
       "      <td>61.87</td>\n",
       "      <td>2667</td>\n",
       "      <td>55.68</td>\n",
       "      <td>5</td>\n",
       "      <td>4</td>\n",
       "      <td>2</td>\n",
       "      <td>186</td>\n",
       "      <td>5</td>\n",
       "    </tr>\n",
       "  </tbody>\n",
       "</table>\n",
       "</div>"
      ],
      "text/plain": [
       "             Player       Span Matches  Inns  Not_Outs  Runs  \\\n",
       "0  DG Bradman (AUS)  1928-1948      52    80        10  6996   \n",
       "1    HC Brook (ENG)  2022-2023      12    20         1  1181   \n",
       "2    AC Voges (AUS)  2015-2016      20    31         7  1485   \n",
       "\n",
       "  Highest_Inns_Score    Ave Balls_Faced  Strike_Rate  100  50  0   4s  6s  \n",
       "0                334  99.94       9800+        58.60   29  13  7  626   6  \n",
       "1                186  62.15        1287        91.76    4   7  1  141  23  \n",
       "2               269*  61.87        2667        55.68    5   4  2  186   5  "
      ]
     },
     "execution_count": 5,
     "metadata": {},
     "output_type": "execute_result"
    }
   ],
   "source": [
    "# show new columns names\n",
    "\n",
    "df.head(3)"
   ]
  },
  {
   "cell_type": "code",
   "execution_count": 6,
   "id": "614ea004",
   "metadata": {},
   "outputs": [
    {
     "data": {
      "text/plain": [
       "Player                False\n",
       "Span                  False\n",
       "Matches               False\n",
       "Inns                  False\n",
       "Not_Outs              False\n",
       "Runs                  False\n",
       "Highest_Inns_Score    False\n",
       "Ave                   False\n",
       "Balls_Faced            True\n",
       "Strike_Rate            True\n",
       "100                   False\n",
       "50                    False\n",
       "0                     False\n",
       "4s                    False\n",
       "6s                    False\n",
       "dtype: bool"
      ]
     },
     "execution_count": 6,
     "metadata": {},
     "output_type": "execute_result"
    }
   ],
   "source": [
    "# Check Null Values \n",
    "\n",
    "df.isnull().any()"
   ]
  },
  {
   "cell_type": "code",
   "execution_count": 7,
   "id": "5cc6e8bb",
   "metadata": {},
   "outputs": [],
   "source": [
    "# replace missing values in column 'Balls Faced' with 0\n",
    "\n",
    "df['Balls_Faced'] = df['Balls_Faced'].fillna(0)"
   ]
  },
  {
   "cell_type": "code",
   "execution_count": 8,
   "id": "adfbacc8",
   "metadata": {},
   "outputs": [],
   "source": [
    "# replace missing values in column 'Strike Rate' with 0\n",
    "\n",
    "df['Strike_Rate'] = df['Strike_Rate'].fillna(0)"
   ]
  },
  {
   "cell_type": "code",
   "execution_count": 9,
   "id": "0d12f205",
   "metadata": {},
   "outputs": [
    {
     "data": {
      "text/plain": [
       "Player                0\n",
       "Span                  0\n",
       "Matches               0\n",
       "Inns                  0\n",
       "Not_Outs              0\n",
       "Runs                  0\n",
       "Highest_Inns_Score    0\n",
       "Ave                   0\n",
       "Balls_Faced           0\n",
       "Strike_Rate           0\n",
       "100                   0\n",
       "50                    0\n",
       "0                     0\n",
       "4s                    0\n",
       "6s                    0\n",
       "dtype: int64"
      ]
     },
     "execution_count": 9,
     "metadata": {},
     "output_type": "execute_result"
    }
   ],
   "source": [
    "df.isnull().sum()"
   ]
  },
  {
   "cell_type": "code",
   "execution_count": 10,
   "id": "b5b5e0eb",
   "metadata": {},
   "outputs": [
    {
     "data": {
      "text/plain": [
       "True"
      ]
     },
     "execution_count": 10,
     "metadata": {},
     "output_type": "execute_result"
    }
   ],
   "source": [
    "# Check duplicated values\n",
    "\n",
    "df.duplicated().any()"
   ]
  },
  {
   "cell_type": "code",
   "execution_count": 13,
   "id": "b509f897",
   "metadata": {},
   "outputs": [],
   "source": [
    "# Drop duplicated Values\n",
    "\n",
    "df = df.drop_duplicates()"
   ]
  },
  {
   "cell_type": "code",
   "execution_count": 48,
   "id": "1c2cc663",
   "metadata": {},
   "outputs": [
    {
     "data": {
      "text/plain": [
       "False"
      ]
     },
     "execution_count": 48,
     "metadata": {},
     "output_type": "execute_result"
    }
   ],
   "source": [
    "# Done removing duplicates\n",
    "\n",
    "df.duplicated().any()"
   ]
  },
  {
   "cell_type": "code",
   "execution_count": 15,
   "id": "0fe17f5a",
   "metadata": {},
   "outputs": [
    {
     "data": {
      "text/plain": [
       "0     1928-1948\n",
       "1     2022-2023\n",
       "2     2015-2016\n",
       "3     1963-1970\n",
       "4     1930-1954\n",
       "        ...    \n",
       "61    1965-1981\n",
       "62    2002-2014\n",
       "63    1924-1934\n",
       "64    1930-1938\n",
       "65    1928-1934\n",
       "Name: Span, Length: 62, dtype: object"
      ]
     },
     "execution_count": 15,
     "metadata": {},
     "output_type": "execute_result"
    }
   ],
   "source": [
    "# Split 'Span' Column into Start and End Date \n",
    "\n",
    "df['Span']"
   ]
  },
  {
   "cell_type": "code",
   "execution_count": 16,
   "id": "5f4ff33f",
   "metadata": {},
   "outputs": [
    {
     "data": {
      "text/plain": [
       "0     [1928, 1948]\n",
       "1     [2022, 2023]\n",
       "2     [2015, 2016]\n",
       "3     [1963, 1970]\n",
       "4     [1930, 1954]\n",
       "          ...     \n",
       "61    [1965, 1981]\n",
       "62    [2002, 2014]\n",
       "63    [1924, 1934]\n",
       "64    [1930, 1938]\n",
       "65    [1928, 1934]\n",
       "Name: Span, Length: 62, dtype: object"
      ]
     },
     "execution_count": 16,
     "metadata": {},
     "output_type": "execute_result"
    }
   ],
   "source": [
    "df['Span'].str.split(pat= '-')"
   ]
  },
  {
   "cell_type": "code",
   "execution_count": 17,
   "id": "cf1b208f",
   "metadata": {},
   "outputs": [],
   "source": [
    "# create new column for Rookie year\n",
    "\n",
    "df['Rookie-Year'] = df['Span'].str.split(pat= '-').str[0] # here i asigned the value BEFORE '-' from Span to Rookie-Year column"
   ]
  },
  {
   "cell_type": "code",
   "execution_count": 18,
   "id": "e97ac825",
   "metadata": {},
   "outputs": [],
   "source": [
    "# create new column for Final year\n",
    "\n",
    "df['Final-Year'] = df['Span'].str.split(pat= '-').str[1] # here i asigned the value AFTER '-' from Span to Final-Year column"
   ]
  },
  {
   "cell_type": "code",
   "execution_count": 19,
   "id": "2f3ff772",
   "metadata": {},
   "outputs": [
    {
     "data": {
      "text/html": [
       "<div>\n",
       "<style scoped>\n",
       "    .dataframe tbody tr th:only-of-type {\n",
       "        vertical-align: middle;\n",
       "    }\n",
       "\n",
       "    .dataframe tbody tr th {\n",
       "        vertical-align: top;\n",
       "    }\n",
       "\n",
       "    .dataframe thead th {\n",
       "        text-align: right;\n",
       "    }\n",
       "</style>\n",
       "<table border=\"1\" class=\"dataframe\">\n",
       "  <thead>\n",
       "    <tr style=\"text-align: right;\">\n",
       "      <th></th>\n",
       "      <th>Player</th>\n",
       "      <th>Span</th>\n",
       "      <th>Matches</th>\n",
       "      <th>Inns</th>\n",
       "      <th>Not_Outs</th>\n",
       "      <th>Runs</th>\n",
       "      <th>Highest_Inns_Score</th>\n",
       "      <th>Ave</th>\n",
       "      <th>Balls_Faced</th>\n",
       "      <th>Strike_Rate</th>\n",
       "      <th>100</th>\n",
       "      <th>50</th>\n",
       "      <th>0</th>\n",
       "      <th>4s</th>\n",
       "      <th>6s</th>\n",
       "      <th>Rookie-Year</th>\n",
       "      <th>Final-Year</th>\n",
       "    </tr>\n",
       "  </thead>\n",
       "  <tbody>\n",
       "    <tr>\n",
       "      <th>0</th>\n",
       "      <td>DG Bradman (AUS)</td>\n",
       "      <td>1928-1948</td>\n",
       "      <td>52</td>\n",
       "      <td>80</td>\n",
       "      <td>10</td>\n",
       "      <td>6996</td>\n",
       "      <td>334</td>\n",
       "      <td>99.94</td>\n",
       "      <td>9800+</td>\n",
       "      <td>58.60</td>\n",
       "      <td>29</td>\n",
       "      <td>13</td>\n",
       "      <td>7</td>\n",
       "      <td>626</td>\n",
       "      <td>6</td>\n",
       "      <td>1928</td>\n",
       "      <td>1948</td>\n",
       "    </tr>\n",
       "    <tr>\n",
       "      <th>1</th>\n",
       "      <td>HC Brook (ENG)</td>\n",
       "      <td>2022-2023</td>\n",
       "      <td>12</td>\n",
       "      <td>20</td>\n",
       "      <td>1</td>\n",
       "      <td>1181</td>\n",
       "      <td>186</td>\n",
       "      <td>62.15</td>\n",
       "      <td>1287</td>\n",
       "      <td>91.76</td>\n",
       "      <td>4</td>\n",
       "      <td>7</td>\n",
       "      <td>1</td>\n",
       "      <td>141</td>\n",
       "      <td>23</td>\n",
       "      <td>2022</td>\n",
       "      <td>2023</td>\n",
       "    </tr>\n",
       "    <tr>\n",
       "      <th>2</th>\n",
       "      <td>AC Voges (AUS)</td>\n",
       "      <td>2015-2016</td>\n",
       "      <td>20</td>\n",
       "      <td>31</td>\n",
       "      <td>7</td>\n",
       "      <td>1485</td>\n",
       "      <td>269*</td>\n",
       "      <td>61.87</td>\n",
       "      <td>2667</td>\n",
       "      <td>55.68</td>\n",
       "      <td>5</td>\n",
       "      <td>4</td>\n",
       "      <td>2</td>\n",
       "      <td>186</td>\n",
       "      <td>5</td>\n",
       "      <td>2015</td>\n",
       "      <td>2016</td>\n",
       "    </tr>\n",
       "    <tr>\n",
       "      <th>3</th>\n",
       "      <td>RG Pollock (SA)</td>\n",
       "      <td>1963-1970</td>\n",
       "      <td>23</td>\n",
       "      <td>41</td>\n",
       "      <td>4</td>\n",
       "      <td>2256</td>\n",
       "      <td>274</td>\n",
       "      <td>60.97</td>\n",
       "      <td>1707+</td>\n",
       "      <td>54.48</td>\n",
       "      <td>7</td>\n",
       "      <td>11</td>\n",
       "      <td>1</td>\n",
       "      <td>246</td>\n",
       "      <td>11</td>\n",
       "      <td>1963</td>\n",
       "      <td>1970</td>\n",
       "    </tr>\n",
       "    <tr>\n",
       "      <th>4</th>\n",
       "      <td>GA Headley (WI)</td>\n",
       "      <td>1930-1954</td>\n",
       "      <td>22</td>\n",
       "      <td>40</td>\n",
       "      <td>4</td>\n",
       "      <td>2190</td>\n",
       "      <td>270*</td>\n",
       "      <td>60.83</td>\n",
       "      <td>416+</td>\n",
       "      <td>56.00</td>\n",
       "      <td>10</td>\n",
       "      <td>5</td>\n",
       "      <td>2</td>\n",
       "      <td>104</td>\n",
       "      <td>1</td>\n",
       "      <td>1930</td>\n",
       "      <td>1954</td>\n",
       "    </tr>\n",
       "  </tbody>\n",
       "</table>\n",
       "</div>"
      ],
      "text/plain": [
       "             Player       Span Matches  Inns  Not_Outs  Runs  \\\n",
       "0  DG Bradman (AUS)  1928-1948      52    80        10  6996   \n",
       "1    HC Brook (ENG)  2022-2023      12    20         1  1181   \n",
       "2    AC Voges (AUS)  2015-2016      20    31         7  1485   \n",
       "3   RG Pollock (SA)  1963-1970      23    41         4  2256   \n",
       "4   GA Headley (WI)  1930-1954      22    40         4  2190   \n",
       "\n",
       "  Highest_Inns_Score    Ave Balls_Faced  Strike_Rate  100  50  0   4s  6s  \\\n",
       "0                334  99.94       9800+        58.60   29  13  7  626   6   \n",
       "1                186  62.15        1287        91.76    4   7  1  141  23   \n",
       "2               269*  61.87        2667        55.68    5   4  2  186   5   \n",
       "3                274  60.97       1707+        54.48    7  11  1  246  11   \n",
       "4               270*  60.83        416+        56.00   10   5  2  104   1   \n",
       "\n",
       "  Rookie-Year Final-Year  \n",
       "0        1928       1948  \n",
       "1        2022       2023  \n",
       "2        2015       2016  \n",
       "3        1963       1970  \n",
       "4        1930       1954  "
      ]
     },
     "execution_count": 19,
     "metadata": {},
     "output_type": "execute_result"
    }
   ],
   "source": [
    "# Check the new columns\n",
    "\n",
    "df.head()"
   ]
  },
  {
   "cell_type": "code",
   "execution_count": 20,
   "id": "d68d45f1",
   "metadata": {},
   "outputs": [],
   "source": [
    "# Drop span column\n",
    "\n",
    "df = df.drop(['Span'], axis = 1)"
   ]
  },
  {
   "cell_type": "code",
   "execution_count": 21,
   "id": "a927ffea",
   "metadata": {},
   "outputs": [
    {
     "data": {
      "text/html": [
       "<div>\n",
       "<style scoped>\n",
       "    .dataframe tbody tr th:only-of-type {\n",
       "        vertical-align: middle;\n",
       "    }\n",
       "\n",
       "    .dataframe tbody tr th {\n",
       "        vertical-align: top;\n",
       "    }\n",
       "\n",
       "    .dataframe thead th {\n",
       "        text-align: right;\n",
       "    }\n",
       "</style>\n",
       "<table border=\"1\" class=\"dataframe\">\n",
       "  <thead>\n",
       "    <tr style=\"text-align: right;\">\n",
       "      <th></th>\n",
       "      <th>Player</th>\n",
       "      <th>Matches</th>\n",
       "      <th>Inns</th>\n",
       "      <th>Not_Outs</th>\n",
       "      <th>Runs</th>\n",
       "      <th>Highest_Inns_Score</th>\n",
       "      <th>Ave</th>\n",
       "      <th>Balls_Faced</th>\n",
       "      <th>Strike_Rate</th>\n",
       "      <th>100</th>\n",
       "      <th>50</th>\n",
       "      <th>0</th>\n",
       "      <th>4s</th>\n",
       "      <th>6s</th>\n",
       "      <th>Rookie-Year</th>\n",
       "      <th>Final-Year</th>\n",
       "    </tr>\n",
       "  </thead>\n",
       "  <tbody>\n",
       "    <tr>\n",
       "      <th>0</th>\n",
       "      <td>DG Bradman (AUS)</td>\n",
       "      <td>52</td>\n",
       "      <td>80</td>\n",
       "      <td>10</td>\n",
       "      <td>6996</td>\n",
       "      <td>334</td>\n",
       "      <td>99.94</td>\n",
       "      <td>9800+</td>\n",
       "      <td>58.60</td>\n",
       "      <td>29</td>\n",
       "      <td>13</td>\n",
       "      <td>7</td>\n",
       "      <td>626</td>\n",
       "      <td>6</td>\n",
       "      <td>1928</td>\n",
       "      <td>1948</td>\n",
       "    </tr>\n",
       "    <tr>\n",
       "      <th>1</th>\n",
       "      <td>HC Brook (ENG)</td>\n",
       "      <td>12</td>\n",
       "      <td>20</td>\n",
       "      <td>1</td>\n",
       "      <td>1181</td>\n",
       "      <td>186</td>\n",
       "      <td>62.15</td>\n",
       "      <td>1287</td>\n",
       "      <td>91.76</td>\n",
       "      <td>4</td>\n",
       "      <td>7</td>\n",
       "      <td>1</td>\n",
       "      <td>141</td>\n",
       "      <td>23</td>\n",
       "      <td>2022</td>\n",
       "      <td>2023</td>\n",
       "    </tr>\n",
       "    <tr>\n",
       "      <th>2</th>\n",
       "      <td>AC Voges (AUS)</td>\n",
       "      <td>20</td>\n",
       "      <td>31</td>\n",
       "      <td>7</td>\n",
       "      <td>1485</td>\n",
       "      <td>269*</td>\n",
       "      <td>61.87</td>\n",
       "      <td>2667</td>\n",
       "      <td>55.68</td>\n",
       "      <td>5</td>\n",
       "      <td>4</td>\n",
       "      <td>2</td>\n",
       "      <td>186</td>\n",
       "      <td>5</td>\n",
       "      <td>2015</td>\n",
       "      <td>2016</td>\n",
       "    </tr>\n",
       "    <tr>\n",
       "      <th>3</th>\n",
       "      <td>RG Pollock (SA)</td>\n",
       "      <td>23</td>\n",
       "      <td>41</td>\n",
       "      <td>4</td>\n",
       "      <td>2256</td>\n",
       "      <td>274</td>\n",
       "      <td>60.97</td>\n",
       "      <td>1707+</td>\n",
       "      <td>54.48</td>\n",
       "      <td>7</td>\n",
       "      <td>11</td>\n",
       "      <td>1</td>\n",
       "      <td>246</td>\n",
       "      <td>11</td>\n",
       "      <td>1963</td>\n",
       "      <td>1970</td>\n",
       "    </tr>\n",
       "    <tr>\n",
       "      <th>4</th>\n",
       "      <td>GA Headley (WI)</td>\n",
       "      <td>22</td>\n",
       "      <td>40</td>\n",
       "      <td>4</td>\n",
       "      <td>2190</td>\n",
       "      <td>270*</td>\n",
       "      <td>60.83</td>\n",
       "      <td>416+</td>\n",
       "      <td>56.00</td>\n",
       "      <td>10</td>\n",
       "      <td>5</td>\n",
       "      <td>2</td>\n",
       "      <td>104</td>\n",
       "      <td>1</td>\n",
       "      <td>1930</td>\n",
       "      <td>1954</td>\n",
       "    </tr>\n",
       "  </tbody>\n",
       "</table>\n",
       "</div>"
      ],
      "text/plain": [
       "             Player Matches  Inns  Not_Outs  Runs Highest_Inns_Score    Ave  \\\n",
       "0  DG Bradman (AUS)      52    80        10  6996                334  99.94   \n",
       "1    HC Brook (ENG)      12    20         1  1181                186  62.15   \n",
       "2    AC Voges (AUS)      20    31         7  1485               269*  61.87   \n",
       "3   RG Pollock (SA)      23    41         4  2256                274  60.97   \n",
       "4   GA Headley (WI)      22    40         4  2190               270*  60.83   \n",
       "\n",
       "  Balls_Faced  Strike_Rate  100  50  0   4s  6s Rookie-Year Final-Year  \n",
       "0       9800+        58.60   29  13  7  626   6        1928       1948  \n",
       "1        1287        91.76    4   7  1  141  23        2022       2023  \n",
       "2        2667        55.68    5   4  2  186   5        2015       2016  \n",
       "3       1707+        54.48    7  11  1  246  11        1963       1970  \n",
       "4        416+        56.00   10   5  2  104   1        1930       1954  "
      ]
     },
     "execution_count": 21,
     "metadata": {},
     "output_type": "execute_result"
    }
   ],
   "source": [
    "df.head()"
   ]
  },
  {
   "cell_type": "code",
   "execution_count": 23,
   "id": "146c1469",
   "metadata": {},
   "outputs": [],
   "source": [
    "# Split country from Player column & create new column for Country\n",
    "\n",
    "df['Country'] = df['Player'].str.split(pat= '(').str[1] # this code for asigning the country from Player column to Country Col"
   ]
  },
  {
   "cell_type": "code",
   "execution_count": 24,
   "id": "771597e5",
   "metadata": {},
   "outputs": [
    {
     "data": {
      "text/plain": [
       "0        AUS)\n",
       "1        ENG)\n",
       "2        AUS)\n",
       "3         SA)\n",
       "4         WI)\n",
       "       ...   \n",
       "61       AUS)\n",
       "62    ICC/SA)\n",
       "63       AUS)\n",
       "64       AUS)\n",
       "65       ENG)\n",
       "Name: Country, Length: 62, dtype: object"
      ]
     },
     "execution_count": 24,
     "metadata": {},
     "output_type": "execute_result"
    }
   ],
   "source": [
    "df['Country']"
   ]
  },
  {
   "cell_type": "code",
   "execution_count": 25,
   "id": "b10e08f4",
   "metadata": {},
   "outputs": [],
   "source": [
    "df['Country'] = df['Country'].str.split(pat= ')').str[0] # Remove ')' after Country Name"
   ]
  },
  {
   "cell_type": "code",
   "execution_count": 26,
   "id": "2a555469",
   "metadata": {},
   "outputs": [
    {
     "data": {
      "text/plain": [
       "0        AUS\n",
       "1        ENG\n",
       "2        AUS\n",
       "3         SA\n",
       "4         WI\n",
       "       ...  \n",
       "61       AUS\n",
       "62    ICC/SA\n",
       "63       AUS\n",
       "64       AUS\n",
       "65       ENG\n",
       "Name: Country, Length: 62, dtype: object"
      ]
     },
     "execution_count": 26,
     "metadata": {},
     "output_type": "execute_result"
    }
   ],
   "source": [
    "df['Country'] # Done :)"
   ]
  },
  {
   "cell_type": "code",
   "execution_count": 27,
   "id": "bb65a10a",
   "metadata": {},
   "outputs": [],
   "source": [
    "# Remove Country name from Player Column\n",
    "\n",
    "df['Player'] = df['Player'].str.split(pat = '(').str[0]"
   ]
  },
  {
   "cell_type": "code",
   "execution_count": 28,
   "id": "8dd851a9",
   "metadata": {},
   "outputs": [
    {
     "data": {
      "text/plain": [
       "0      DG Bradman \n",
       "1        HC Brook \n",
       "2        AC Voges \n",
       "3      RG Pollock \n",
       "4      GA Headley \n",
       "          ...     \n",
       "61     KD Walters \n",
       "62       GC Smith \n",
       "63    WH Ponsford \n",
       "64      SJ McCabe \n",
       "65     DR Jardine \n",
       "Name: Player, Length: 62, dtype: object"
      ]
     },
     "execution_count": 28,
     "metadata": {},
     "output_type": "execute_result"
    }
   ],
   "source": [
    "df['Player']"
   ]
  },
  {
   "cell_type": "code",
   "execution_count": 30,
   "id": "a04ae4b8",
   "metadata": {},
   "outputs": [],
   "source": [
    "df['Highest_Inns_Score'] = df['Highest_Inns_Score'].str.split(pat = '*').str[0] # Removing the * after the values"
   ]
  },
  {
   "cell_type": "code",
   "execution_count": 38,
   "id": "03553600",
   "metadata": {},
   "outputs": [],
   "source": [
    "df['Matches'] = df['Matches'].str.split(pat = '*').str[0] # Same here removing * after matches values"
   ]
  },
  {
   "cell_type": "code",
   "execution_count": 41,
   "id": "14b653f6",
   "metadata": {},
   "outputs": [],
   "source": [
    "df['Balls_Faced'] = df['Balls_Faced'].str.split(pat = '+').str[0] # Same as before"
   ]
  },
  {
   "cell_type": "code",
   "execution_count": 29,
   "id": "a0793093",
   "metadata": {},
   "outputs": [
    {
     "data": {
      "text/plain": [
       "Player                 object\n",
       "Matches                object\n",
       "Inns                    int64\n",
       "Not_Outs                int64\n",
       "Runs                    int64\n",
       "Highest_Inns_Score     object\n",
       "Ave                   float64\n",
       "Balls_Faced            object\n",
       "Strike_Rate           float64\n",
       "100                     int64\n",
       "50                      int64\n",
       "0                       int64\n",
       "4s                      int64\n",
       "6s                      int64\n",
       "Rookie-Year            object\n",
       "Final-Year             object\n",
       "Country                object\n",
       "dtype: object"
      ]
     },
     "execution_count": 29,
     "metadata": {},
     "output_type": "execute_result"
    }
   ],
   "source": [
    "# Check Columns DataTypes\n",
    "\n",
    "df.dtypes"
   ]
  },
  {
   "cell_type": "code",
   "execution_count": 35,
   "id": "84efb5b3",
   "metadata": {},
   "outputs": [],
   "source": [
    "#Change data type of 'Highest_Inns_Score' Column to int\n",
    "\n",
    "df['Highest_Inns_Score'] = df['Highest_Inns_Score'].astype(int)"
   ]
  },
  {
   "cell_type": "code",
   "execution_count": 36,
   "id": "0e182e71",
   "metadata": {},
   "outputs": [],
   "source": [
    "# Change many columns to the right DataType\n",
    "\n",
    "df = df.astype({'Rookie-Year':'int','Final-Year':'int'})"
   ]
  },
  {
   "cell_type": "code",
   "execution_count": 39,
   "id": "5d447809",
   "metadata": {},
   "outputs": [],
   "source": [
    "df['Matches'] = df['Matches'].astype('int')"
   ]
  },
  {
   "cell_type": "code",
   "execution_count": 44,
   "id": "b5e93519",
   "metadata": {},
   "outputs": [],
   "source": [
    "df['Balls_Faced'] = df['Balls_Faced'].astype('int')"
   ]
  },
  {
   "cell_type": "code",
   "execution_count": 46,
   "id": "61224438",
   "metadata": {},
   "outputs": [],
   "source": [
    "df['Strike_Rate'] = df['Strike_Rate'].astype('float')"
   ]
  },
  {
   "cell_type": "code",
   "execution_count": 47,
   "id": "38778476",
   "metadata": {
    "scrolled": true
   },
   "outputs": [
    {
     "data": {
      "text/plain": [
       "Player                 object\n",
       "Matches                 int32\n",
       "Inns                    int64\n",
       "Not_Outs                int64\n",
       "Runs                    int64\n",
       "Highest_Inns_Score      int32\n",
       "Ave                   float64\n",
       "Balls_Faced             int32\n",
       "Strike_Rate           float64\n",
       "100                     int64\n",
       "50                      int64\n",
       "0                       int64\n",
       "4s                      int64\n",
       "6s                      int64\n",
       "Rookie-Year             int32\n",
       "Final-Year              int32\n",
       "Country                object\n",
       "dtype: object"
      ]
     },
     "execution_count": 47,
     "metadata": {},
     "output_type": "execute_result"
    }
   ],
   "source": [
    "df.dtypes"
   ]
  },
  {
   "cell_type": "code",
   "execution_count": null,
   "id": "dfc3855a",
   "metadata": {},
   "outputs": [],
   "source": [
    "# Calculations"
   ]
  },
  {
   "cell_type": "code",
   "execution_count": 51,
   "id": "9dcc7be2",
   "metadata": {},
   "outputs": [],
   "source": [
    "# Create new column for checking career lengh\n",
    "\n",
    "df['career_length'] = df['Final-Year'] - df['Rookie-Year']"
   ]
  },
  {
   "cell_type": "code",
   "execution_count": 53,
   "id": "f518d746",
   "metadata": {},
   "outputs": [
    {
     "data": {
      "text/plain": [
       "13.14516129032258"
      ]
     },
     "execution_count": 53,
     "metadata": {},
     "output_type": "execute_result"
    }
   ],
   "source": [
    "#Q1: Calculate the average of players career lengh\n",
    "df['career_length'].mean()"
   ]
  },
  {
   "cell_type": "code",
   "execution_count": 54,
   "id": "1f2d6c80",
   "metadata": {},
   "outputs": [
    {
     "data": {
      "text/plain": [
       "47.95454545454545"
      ]
     },
     "execution_count": 54,
     "metadata": {},
     "output_type": "execute_result"
    }
   ],
   "source": [
    "#Q2: AVG Batting_Strike_Rate for cricketers who played over 10 years\n",
    "\n",
    "df[df['career_length']>10]['Strike_Rate'].mean()"
   ]
  },
  {
   "cell_type": "code",
   "execution_count": 58,
   "id": "533a2b17",
   "metadata": {},
   "outputs": [
    {
     "data": {
      "text/plain": [
       "23"
      ]
     },
     "execution_count": 58,
     "metadata": {},
     "output_type": "execute_result"
    }
   ],
   "source": [
    "#Q3: find the number of cricketers who played before 1960\n",
    "\n",
    "df[df['Rookie-Year'] < 1960]['Player'].count()"
   ]
  },
  {
   "cell_type": "code",
   "execution_count": 62,
   "id": "d37bc7af",
   "metadata": {},
   "outputs": [
    {
     "data": {
      "text/html": [
       "<div>\n",
       "<style scoped>\n",
       "    .dataframe tbody tr th:only-of-type {\n",
       "        vertical-align: middle;\n",
       "    }\n",
       "\n",
       "    .dataframe tbody tr th {\n",
       "        vertical-align: top;\n",
       "    }\n",
       "\n",
       "    .dataframe thead th {\n",
       "        text-align: right;\n",
       "    }\n",
       "</style>\n",
       "<table border=\"1\" class=\"dataframe\">\n",
       "  <thead>\n",
       "    <tr style=\"text-align: right;\">\n",
       "      <th></th>\n",
       "      <th>Country</th>\n",
       "      <th>Highest_Countries</th>\n",
       "    </tr>\n",
       "  </thead>\n",
       "  <tbody>\n",
       "    <tr>\n",
       "      <th>5</th>\n",
       "      <td>ICC/WI</td>\n",
       "      <td>400</td>\n",
       "    </tr>\n",
       "    <tr>\n",
       "      <th>0</th>\n",
       "      <td>AUS</td>\n",
       "      <td>380</td>\n",
       "    </tr>\n",
       "    <tr>\n",
       "      <th>10</th>\n",
       "      <td>SL</td>\n",
       "      <td>374</td>\n",
       "    </tr>\n",
       "    <tr>\n",
       "      <th>11</th>\n",
       "      <td>WI</td>\n",
       "      <td>365</td>\n",
       "    </tr>\n",
       "    <tr>\n",
       "      <th>1</th>\n",
       "      <td>ENG</td>\n",
       "      <td>364</td>\n",
       "    </tr>\n",
       "    <tr>\n",
       "      <th>3</th>\n",
       "      <td>ICC/PAK</td>\n",
       "      <td>329</td>\n",
       "    </tr>\n",
       "    <tr>\n",
       "      <th>2</th>\n",
       "      <td>ICC/IND</td>\n",
       "      <td>319</td>\n",
       "    </tr>\n",
       "    <tr>\n",
       "      <th>8</th>\n",
       "      <td>PAK</td>\n",
       "      <td>313</td>\n",
       "    </tr>\n",
       "    <tr>\n",
       "      <th>9</th>\n",
       "      <td>SA</td>\n",
       "      <td>278</td>\n",
       "    </tr>\n",
       "    <tr>\n",
       "      <th>4</th>\n",
       "      <td>ICC/SA</td>\n",
       "      <td>277</td>\n",
       "    </tr>\n",
       "    <tr>\n",
       "      <th>6</th>\n",
       "      <td>IND</td>\n",
       "      <td>254</td>\n",
       "    </tr>\n",
       "    <tr>\n",
       "      <th>7</th>\n",
       "      <td>NZ</td>\n",
       "      <td>251</td>\n",
       "    </tr>\n",
       "    <tr>\n",
       "      <th>12</th>\n",
       "      <td>ZIM</td>\n",
       "      <td>232</td>\n",
       "    </tr>\n",
       "  </tbody>\n",
       "</table>\n",
       "</div>"
      ],
      "text/plain": [
       "    Country  Highest_Countries\n",
       "5    ICC/WI                400\n",
       "0       AUS                380\n",
       "10       SL                374\n",
       "11       WI                365\n",
       "1       ENG                364\n",
       "3   ICC/PAK                329\n",
       "2   ICC/IND                319\n",
       "8       PAK                313\n",
       "9        SA                278\n",
       "4    ICC/SA                277\n",
       "6       IND                254\n",
       "7        NZ                251\n",
       "12      ZIM                232"
      ]
     },
     "execution_count": 62,
     "metadata": {},
     "output_type": "execute_result"
    }
   ],
   "source": [
    "#Q4: Max Highest Inns Score by Country\n",
    "\n",
    "df.groupby('Country')['Highest_Inns_Score'].max().to_frame('Highest_Countries').reset_index().sort_values('Highest_Countries', ascending = False)"
   ]
  },
  {
   "cell_type": "code",
   "execution_count": 63,
   "id": "bb74fdeb",
   "metadata": {},
   "outputs": [
    {
     "data": {
      "text/html": [
       "<div>\n",
       "<style scoped>\n",
       "    .dataframe tbody tr th:only-of-type {\n",
       "        vertical-align: middle;\n",
       "    }\n",
       "\n",
       "    .dataframe tbody tr th {\n",
       "        vertical-align: top;\n",
       "    }\n",
       "\n",
       "    .dataframe thead th {\n",
       "        text-align: right;\n",
       "    }\n",
       "</style>\n",
       "<table border=\"1\" class=\"dataframe\">\n",
       "  <thead>\n",
       "    <tr style=\"text-align: right;\">\n",
       "      <th></th>\n",
       "      <th>100</th>\n",
       "      <th>50</th>\n",
       "      <th>0</th>\n",
       "    </tr>\n",
       "    <tr>\n",
       "      <th>Country</th>\n",
       "      <th></th>\n",
       "      <th></th>\n",
       "      <th></th>\n",
       "    </tr>\n",
       "  </thead>\n",
       "  <tbody>\n",
       "    <tr>\n",
       "      <th>AUS</th>\n",
       "      <td>20.625000</td>\n",
       "      <td>28.125000</td>\n",
       "      <td>8.500000</td>\n",
       "    </tr>\n",
       "    <tr>\n",
       "      <th>ENG</th>\n",
       "      <td>12.307692</td>\n",
       "      <td>20.769231</td>\n",
       "      <td>4.307692</td>\n",
       "    </tr>\n",
       "    <tr>\n",
       "      <th>ICC/IND</th>\n",
       "      <td>29.500000</td>\n",
       "      <td>47.500000</td>\n",
       "      <td>12.000000</td>\n",
       "    </tr>\n",
       "    <tr>\n",
       "      <th>ICC/PAK</th>\n",
       "      <td>25.000000</td>\n",
       "      <td>46.000000</td>\n",
       "      <td>15.000000</td>\n",
       "    </tr>\n",
       "    <tr>\n",
       "      <th>ICC/SA</th>\n",
       "      <td>36.000000</td>\n",
       "      <td>48.000000</td>\n",
       "      <td>13.500000</td>\n",
       "    </tr>\n",
       "    <tr>\n",
       "      <th>ICC/WI</th>\n",
       "      <td>34.000000</td>\n",
       "      <td>48.000000</td>\n",
       "      <td>17.000000</td>\n",
       "    </tr>\n",
       "    <tr>\n",
       "      <th>IND</th>\n",
       "      <td>29.500000</td>\n",
       "      <td>36.500000</td>\n",
       "      <td>10.750000</td>\n",
       "    </tr>\n",
       "    <tr>\n",
       "      <th>NZ</th>\n",
       "      <td>17.000000</td>\n",
       "      <td>21.000000</td>\n",
       "      <td>5.500000</td>\n",
       "    </tr>\n",
       "    <tr>\n",
       "      <th>PAK</th>\n",
       "      <td>21.250000</td>\n",
       "      <td>28.000000</td>\n",
       "      <td>9.500000</td>\n",
       "    </tr>\n",
       "    <tr>\n",
       "      <th>SA</th>\n",
       "      <td>9.800000</td>\n",
       "      <td>20.200000</td>\n",
       "      <td>3.400000</td>\n",
       "    </tr>\n",
       "    <tr>\n",
       "      <th>SL</th>\n",
       "      <td>28.666667</td>\n",
       "      <td>44.000000</td>\n",
       "      <td>12.333333</td>\n",
       "    </tr>\n",
       "    <tr>\n",
       "      <th>WI</th>\n",
       "      <td>16.625000</td>\n",
       "      <td>25.625000</td>\n",
       "      <td>7.250000</td>\n",
       "    </tr>\n",
       "    <tr>\n",
       "      <th>ZIM</th>\n",
       "      <td>12.000000</td>\n",
       "      <td>27.000000</td>\n",
       "      <td>5.000000</td>\n",
       "    </tr>\n",
       "  </tbody>\n",
       "</table>\n",
       "</div>"
      ],
      "text/plain": [
       "               100         50          0\n",
       "Country                                 \n",
       "AUS      20.625000  28.125000   8.500000\n",
       "ENG      12.307692  20.769231   4.307692\n",
       "ICC/IND  29.500000  47.500000  12.000000\n",
       "ICC/PAK  25.000000  46.000000  15.000000\n",
       "ICC/SA   36.000000  48.000000  13.500000\n",
       "ICC/WI   34.000000  48.000000  17.000000\n",
       "IND      29.500000  36.500000  10.750000\n",
       "NZ       17.000000  21.000000   5.500000\n",
       "PAK      21.250000  28.000000   9.500000\n",
       "SA        9.800000  20.200000   3.400000\n",
       "SL       28.666667  44.000000  12.333333\n",
       "WI       16.625000  25.625000   7.250000\n",
       "ZIM      12.000000  27.000000   5.000000"
      ]
     },
     "execution_count": 63,
     "metadata": {},
     "output_type": "execute_result"
    }
   ],
   "source": [
    "#Q5: Hundreds, Fifties, Ducks (0) AVG by Country (AVG Numbers of Points scored by players for each country)\n",
    "\n",
    "df.groupby('Country')[['100','50','0']].mean()"
   ]
  },
  {
   "cell_type": "markdown",
   "id": "0ffda7fb",
   "metadata": {},
   "source": [
    "# Conclusion:\n",
    "\n",
    "In conclusion, this project focused on a thorough analysis and enhancement of cricket player statistics. The primary objectives were successfully achieved through meticulous steps:\n",
    "\n",
    "Data Cleaning: The dataset, obtained from ESPNcricinfo, underwent a comprehensive cleaning process. Missing values were addressed, duplicates were removed, and data formats were standardized.\n",
    "\n",
    "Data Transformation: Key columns, including 'Rookie-Year,' 'Final-Year,' 'Matches,' 'Balls_Faced,' and 'Strike_Rate,' were transformed into their respective data types, ensuring accurate analysis.\n",
    "\n",
    "Statistical Analysis: Various statistical calculations were applied to extract insights into player performance. This included determining the average career length and batting strike rates for players with over 10 years of experience.\n",
    "\n",
    "The project's conclusion marks the attainment of a clean, well-structured dataset, devoid of errors and inconsistencies. By transforming the data into appropriate types, the groundwork has been laid for meaningful and reliable analysis in the realm of cricket player statistics."
   ]
  }
 ],
 "metadata": {
  "kernelspec": {
   "display_name": "Python 3 (ipykernel)",
   "language": "python",
   "name": "python3"
  },
  "language_info": {
   "codemirror_mode": {
    "name": "ipython",
    "version": 3
   },
   "file_extension": ".py",
   "mimetype": "text/x-python",
   "name": "python",
   "nbconvert_exporter": "python",
   "pygments_lexer": "ipython3",
   "version": "3.11.1"
  }
 },
 "nbformat": 4,
 "nbformat_minor": 5
}
